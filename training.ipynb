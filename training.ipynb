{
 "cells": [
  {
   "cell_type": "markdown",
   "metadata": {},
   "source": [
    "# Chatbot Training"
   ]
  },
  {
   "cell_type": "markdown",
   "metadata": {},
   "source": [
    "## Imports"
   ]
  },
  {
   "cell_type": "code",
   "execution_count": 2,
   "metadata": {},
   "outputs": [],
   "source": [
    "import nltk\n",
    "from nltk.corpus import stopwords\n",
    "from nltk.stem import WordNetLemmatizer\n",
    "lemmatizer = WordNetLemmatizer()\n",
    "import json\n",
    "import pickle\n",
    "\n",
    "import numpy as np\n",
    "from keras.models import Sequential\n",
    "from keras.layers import Dense, Activation, Dropout\n",
    "from keras.optimizers import SGD\n",
    "import random\n",
    "import re"
   ]
  },
  {
   "cell_type": "markdown",
   "metadata": {},
   "source": [
    "Run the following if first time running nltk"
   ]
  },
  {
   "cell_type": "code",
   "execution_count": 63,
   "metadata": {},
   "outputs": [
    {
     "output_type": "stream",
     "name": "stderr",
     "text": "[nltk_data] Downloading package punkt to\n[nltk_data]     C:\\Users\\emcco\\AppData\\Roaming\\nltk_data...\n[nltk_data]   Package punkt is already up-to-date!\n[nltk_data] Downloading package wordnet to\n[nltk_data]     C:\\Users\\emcco\\AppData\\Roaming\\nltk_data...\n[nltk_data]   Package wordnet is already up-to-date!\n"
    },
    {
     "output_type": "execute_result",
     "data": {
      "text/plain": "True"
     },
     "metadata": {},
     "execution_count": 63
    }
   ],
   "source": [
    "nltk.download('punkt')\n",
    "nltk.download('wordnet')"
   ]
  },
  {
   "cell_type": "markdown",
   "metadata": {},
   "source": [
    "## Corpus Processing"
   ]
  },
  {
   "cell_type": "code",
   "execution_count": 64,
   "metadata": {},
   "outputs": [],
   "source": [
    "words=[]\n",
    "class_names = []\n",
    "classes = []\n",
    "documents = []\n",
    "data_file = open('intents.json').read()\n",
    "intents = json.loads(data_file)\n",
    "\n",
    "for intent in intents['intents']:\n",
    "    for pattern in intent['patterns']:\n",
    "\n",
    "        # take each word and tokenize it\n",
    "        w = nltk.word_tokenize(pattern.lower())\n",
    "        words.extend(w)\n",
    "        # adding documents\n",
    "        documents.append((w, intent['tag']))\n",
    "\n",
    "        # adding classes to our class list\n",
    "        if intent['tag'] not in class_names:\n",
    "            class_names.append(intent['tag'])\n",
    "            classes.append((intent['tag'], intent['context']))"
   ]
  },
  {
   "cell_type": "code",
   "execution_count": 65,
   "metadata": {},
   "outputs": [
    {
     "output_type": "stream",
     "name": "stdout",
     "text": "[(['hi', 'there'], 'greeting'), (['how', 'are', 'you'], 'greeting'), (['hey'], 'greeting'), (['good', 'day'], 'greeting'), (['hi'], 'greeting'), (['hello'], 'greeting'), (['yo'], 'greeting'), (['bye'], 'goodbye'), (['see', 'you', 'later'], 'goodbye'), (['goodbye'], 'goodbye')]\n"
    }
   ],
   "source": [
    "print(documents[:10])"
   ]
  },
  {
   "cell_type": "code",
   "execution_count": 3,
   "metadata": {},
   "outputs": [
    {
     "output_type": "stream",
     "name": "stdout",
     "text": [
      "['i', 'me', 'my', 'myself', 'we', 'our', 'ours', 'ourselves', 'you', \"you're\", \"you've\", \"you'll\", \"you'd\", 'your', 'yours', 'yourself', 'yourselves', 'he', 'him', 'his', 'himself', 'she', \"she's\", 'her', 'hers', 'herself', 'it', \"it's\", 'its', 'itself', 'they', 'them', 'their', 'theirs', 'themselves', 'what', 'which', 'who', 'whom', 'this', 'that', \"that'll\", 'these', 'those', 'am', 'is', 'are', 'was', 'were', 'be', 'been', 'being', 'have', 'has', 'had', 'having', 'do', 'does', 'did', 'doing', 'a', 'an', 'the', 'and', 'but', 'if', 'or', 'because', 'as', 'until', 'while', 'of', 'at', 'by', 'for', 'with', 'about', 'against', 'between', 'into', 'through', 'during', 'before', 'after', 'above', 'below', 'to', 'from', 'up', 'down', 'in', 'out', 'on', 'off', 'over', 'under', 'again', 'further', 'then', 'once', 'here', 'there', 'when', 'where', 'why', 'how', 'all', 'any', 'both', 'each', 'few', 'more', 'most', 'other', 'some', 'such', 'no', 'nor', 'not', 'only', 'own', 'same', 'so', 'than', 'too', 'very', 's', 't', 'can', 'will', 'just', 'don', \"don't\", 'should', \"should've\", 'now', 'd', 'll', 'm', 'o', 're', 've', 'y', 'ain', 'aren', \"aren't\", 'couldn', \"couldn't\", 'didn', \"didn't\", 'doesn', \"doesn't\", 'hadn', \"hadn't\", 'hasn', \"hasn't\", 'haven', \"haven't\", 'isn', \"isn't\", 'ma', 'mightn', \"mightn't\", 'mustn', \"mustn't\", 'needn', \"needn't\", 'shan', \"shan't\", 'shouldn', \"shouldn't\", 'wasn', \"wasn't\", 'weren', \"weren't\", 'won', \"won't\", 'wouldn', \"wouldn't\"]\n"
     ]
    }
   ],
   "source": [
    "print(stopwords.words('english'))"
   ]
  },
  {
   "cell_type": "code",
   "execution_count": 66,
   "metadata": {},
   "outputs": [
    {
     "output_type": "stream",
     "name": "stdout",
     "text": "34 documents\n5 classes [('greeting', 'general'), ('goodbye', 'general'), ('thanks', 'general'), ('options', 'general'), ('connect_spotify', 'general')]\n54 unique lemmatized words [\"'s\", 'appreciate', 'are', 'awesome', 'be', 'bye', 'call', 'can', 'connect', 'could', 'data', 'day', 'do', 'for', 'get', 'good', 'goodbye', 'have', 'hello', 'help', 'helpful', 'helping', 'hey', 'hi', 'how', 'in', 'is', 'it', 'later', 'login', 'me', 'next', 'offered', 'open', 'option', 'out', 'peace', 'provide', 'pull', 'quit', 'see', 'sign', 'spotify', 'support', 'thank', 'thanks', 'that', 'there', 'till', 'time', 'to', 'what', 'yo', 'you']\n"
    }
   ],
   "source": [
    "# Parse documents\n",
    "\n",
    "words = [lemmatizer.lemmatize(w.lower()) for w in words if len(w) > 1]\n",
    "words = sorted(list(set(words)))\n",
    "\n",
    "print (len(documents), \"documents\")\n",
    "\n",
    "print (len(classes), \"classes\", classes)\n",
    "\n",
    "print (len(words), \"unique lemmatized words\", words)\n",
    "\n",
    "\n",
    "pickle.dump(words,open('words.pkl','wb'))\n",
    "pickle.dump(classes,open('classes.pkl','wb'))"
   ]
  },
  {
   "cell_type": "code",
   "execution_count": 67,
   "metadata": {},
   "outputs": [
    {
     "output_type": "stream",
     "name": "stdout",
     "text": "Training data created\n"
    }
   ],
   "source": [
    "# initializing training data\n",
    "training = []\n",
    "class_row_empty = [0] * len(classes)\n",
    "for doc in documents:\n",
    "    bag = []\n",
    "    pattern_words = doc[0]\n",
    "    pattern_words = [lemmatizer.lemmatize(word.lower()) for word in pattern_words]\n",
    "    \n",
    "    # create sparse array to represent word vector\n",
    "    for w in words:\n",
    "        bag.append(1) if w in pattern_words else bag.append(0)\n",
    "\n",
    "    # create sparse array to represent target class\n",
    "    class_row = list(class_row_empty)\n",
    "    class_row[class_names.index(doc[1])] = 1\n",
    "\n",
    "    training.append([bag, class_row])\n",
    "\n",
    "# shuffle features\n",
    "random.shuffle(training)\n",
    "training = np.array(training)\n",
    "\n",
    "# create train list. X - patterns, Y - intents\n",
    "train_x = list(training[:,0])\n",
    "train_y = list(training[:,1])\n",
    "print(\"Training data created\")"
   ]
  },
  {
   "cell_type": "code",
   "execution_count": 68,
   "metadata": {},
   "outputs": [
    {
     "output_type": "stream",
     "name": "stdout",
     "text": "Epoch 1/50\n7/7 [==============================] - 0s 567us/step - loss: 1.6241 - accuracy: 0.1471\nEpoch 2/50\n7/7 [==============================] - 0s 496us/step - loss: 1.5992 - accuracy: 0.2353\nEpoch 3/50\n7/7 [==============================] - 0s 709us/step - loss: 1.5505 - accuracy: 0.3824\nEpoch 4/50\n7/7 [==============================] - 0s 850us/step - loss: 1.5230 - accuracy: 0.3235\nEpoch 5/50\n7/7 [==============================] - 0s 709us/step - loss: 1.5371 - accuracy: 0.3235\nEpoch 6/50\n7/7 [==============================] - 0s 567us/step - loss: 1.4072 - accuracy: 0.5588\nEpoch 7/50\n7/7 [==============================] - 0s 638us/step - loss: 1.3899 - accuracy: 0.5294\nEpoch 8/50\n7/7 [==============================] - 0s 567us/step - loss: 1.3487 - accuracy: 0.5000\nEpoch 9/50\n7/7 [==============================] - 0s 638us/step - loss: 1.2947 - accuracy: 0.5294\nEpoch 10/50\n7/7 [==============================] - 0s 709us/step - loss: 1.2113 - accuracy: 0.6765\nEpoch 11/50\n7/7 [==============================] - 0s 567us/step - loss: 1.0861 - accuracy: 0.6471\nEpoch 12/50\n7/7 [==============================] - 0s 638us/step - loss: 1.0171 - accuracy: 0.7647\nEpoch 13/50\n7/7 [==============================] - 0s 567us/step - loss: 1.0326 - accuracy: 0.7059\nEpoch 14/50\n7/7 [==============================] - 0s 567us/step - loss: 0.9533 - accuracy: 0.7059\nEpoch 15/50\n7/7 [==============================] - 0s 780us/step - loss: 0.8774 - accuracy: 0.7941\nEpoch 16/50\n7/7 [==============================] - 0s 496us/step - loss: 0.8469 - accuracy: 0.8824\nEpoch 17/50\n7/7 [==============================] - 0s 638us/step - loss: 0.7531 - accuracy: 0.8235\nEpoch 18/50\n7/7 [==============================] - 0s 567us/step - loss: 0.7628 - accuracy: 0.8529\nEpoch 19/50\n7/7 [==============================] - 0s 567us/step - loss: 0.6934 - accuracy: 0.8235\nEpoch 20/50\n7/7 [==============================] - 0s 638us/step - loss: 0.5258 - accuracy: 0.8824\nEpoch 21/50\n7/7 [==============================] - 0s 496us/step - loss: 0.4916 - accuracy: 0.8529\nEpoch 22/50\n7/7 [==============================] - 0s 567us/step - loss: 0.4252 - accuracy: 0.9412\nEpoch 23/50\n7/7 [==============================] - 0s 1ms/step - loss: 0.5996 - accuracy: 0.8235\nEpoch 24/50\n7/7 [==============================] - 0s 567us/step - loss: 0.4254 - accuracy: 0.8824\nEpoch 25/50\n7/7 [==============================] - 0s 638us/step - loss: 0.3933 - accuracy: 0.8529\nEpoch 26/50\n7/7 [==============================] - 0s 567us/step - loss: 0.3563 - accuracy: 0.9118\nEpoch 27/50\n7/7 [==============================] - 0s 779us/step - loss: 0.3053 - accuracy: 0.9412\nEpoch 28/50\n7/7 [==============================] - 0s 567us/step - loss: 0.2981 - accuracy: 0.9706\nEpoch 29/50\n7/7 [==============================] - 0s 567us/step - loss: 0.3556 - accuracy: 0.9412\nEpoch 30/50\n7/7 [==============================] - 0s 709us/step - loss: 0.2553 - accuracy: 0.9412\nEpoch 31/50\n7/7 [==============================] - 0s 567us/step - loss: 0.2563 - accuracy: 0.9412\nEpoch 32/50\n7/7 [==============================] - 0s 709us/step - loss: 0.1748 - accuracy: 0.9706\nEpoch 33/50\n7/7 [==============================] - 0s 567us/step - loss: 0.2114 - accuracy: 0.9412\nEpoch 34/50\n7/7 [==============================] - 0s 638us/step - loss: 0.2104 - accuracy: 0.9706\nEpoch 35/50\n7/7 [==============================] - 0s 709us/step - loss: 0.2718 - accuracy: 0.9412\nEpoch 36/50\n7/7 [==============================] - 0s 638us/step - loss: 0.1579 - accuracy: 1.0000\nEpoch 37/50\n7/7 [==============================] - 0s 567us/step - loss: 0.1419 - accuracy: 0.9412\nEpoch 38/50\n7/7 [==============================] - 0s 496us/step - loss: 0.1037 - accuracy: 1.0000\nEpoch 39/50\n7/7 [==============================] - 0s 496us/step - loss: 0.1581 - accuracy: 0.9412\nEpoch 40/50\n7/7 [==============================] - 0s 638us/step - loss: 0.1315 - accuracy: 1.0000\nEpoch 41/50\n7/7 [==============================] - 0s 567us/step - loss: 0.1555 - accuracy: 0.9706\nEpoch 42/50\n7/7 [==============================] - 0s 850us/step - loss: 0.1246 - accuracy: 1.0000\nEpoch 43/50\n7/7 [==============================] - 0s 567us/step - loss: 0.1363 - accuracy: 0.9706\nEpoch 44/50\n7/7 [==============================] - 0s 496us/step - loss: 0.0951 - accuracy: 1.0000\nEpoch 45/50\n7/7 [==============================] - 0s 638us/step - loss: 0.0575 - accuracy: 1.0000\nEpoch 46/50\n7/7 [==============================] - 0s 992us/step - loss: 0.0899 - accuracy: 1.0000\nEpoch 47/50\n7/7 [==============================] - 0s 709us/step - loss: 0.0474 - accuracy: 1.0000\nEpoch 48/50\n7/7 [==============================] - 0s 567us/step - loss: 0.0922 - accuracy: 1.0000\nEpoch 49/50\n7/7 [==============================] - 0s 638us/step - loss: 0.0549 - accuracy: 0.9706\nEpoch 50/50\n7/7 [==============================] - 0s 567us/step - loss: 0.0744 - accuracy: 1.0000\nmodel created\n"
    }
   ],
   "source": [
    "# Create model - 3 layers. First layer 128 neurons, second layer 64 neurons and 3rd output layer contains number of neurons\n",
    "# equal to number of intents to predict output intent with softmax\n",
    "model = Sequential()\n",
    "model.add(Dense(128, input_shape=(len(train_x[0]),), activation='relu'))\n",
    "model.add(Dropout(0.5))\n",
    "model.add(Dense(64, activation='relu'))\n",
    "model.add(Dropout(0.5))\n",
    "model.add(Dense(len(train_y[0]), activation='softmax'))\n",
    "\n",
    "# Compile model. Stochastic gradient descent with Nesterov accelerated gradient gives good results for this model\n",
    "sgd = SGD(lr=0.01, decay=1e-6, momentum=0.9, nesterov=True)\n",
    "model.compile(loss='categorical_crossentropy', optimizer=sgd, metrics=['accuracy'])\n",
    "\n",
    "#fitting and saving the model\n",
    "hist = model.fit(np.array(train_x), np.array(train_y), epochs=50, batch_size=5, verbose=1)\n",
    "model.save(os.path.join(os.getcwd(),'chatbot_model.h5'), hist)\n",
    "\n",
    "print(\"model created\")"
   ]
  },
  {
   "cell_type": "code",
   "execution_count": null,
   "metadata": {},
   "outputs": [],
   "source": []
  }
 ],
 "metadata": {
  "language_info": {
   "codemirror_mode": {
    "name": "ipython",
    "version": 3
   },
   "file_extension": ".py",
   "mimetype": "text/x-python",
   "name": "python",
   "nbconvert_exporter": "python",
   "pygments_lexer": "ipython3",
   "version": "3.7.9-final"
  },
  "orig_nbformat": 2,
  "kernelspec": {
   "name": "Python 3.7.9 64-bit",
   "display_name": "Python 3.7.9 64-bit",
   "metadata": {
    "interpreter": {
     "hash": "1648db51aef089344c971c491da9bd2a76611211bee3d4e18e6b5ac523d0137a"
    }
   }
  }
 },
 "nbformat": 4,
 "nbformat_minor": 2
}