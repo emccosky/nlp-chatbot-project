{
 "metadata": {
  "language_info": {
   "codemirror_mode": {
    "name": "ipython",
    "version": 3
   },
   "file_extension": ".py",
   "mimetype": "text/x-python",
   "name": "python",
   "nbconvert_exporter": "python",
   "pygments_lexer": "ipython3",
   "version": "3.7.9-final"
  },
  "orig_nbformat": 2,
  "kernelspec": {
   "name": "Python 3.7.9 64-bit",
   "display_name": "Python 3.7.9 64-bit",
   "metadata": {
    "interpreter": {
     "hash": "1648db51aef089344c971c491da9bd2a76611211bee3d4e18e6b5ac523d0137a"
    }
   }
  }
 },
 "nbformat": 4,
 "nbformat_minor": 2,
 "cells": [
  {
   "source": [
    "# Spotify API Notebook"
   ],
   "cell_type": "markdown",
   "metadata": {}
  },
  {
   "cell_type": "code",
   "execution_count": 1,
   "metadata": {},
   "outputs": [],
   "source": [
    "import chatbot_lib as lib\n",
    "from chatbot_lib import User\n",
    "\n",
    "import spotipy\n",
    "from spotipy.oauth2 import SpotifyClientCredentials\n",
    "import spotipy.util as util\n",
    "import json\n",
    "\n",
    "SPOTIPY_CLIENT_ID = '28e288eb88f342c79ac8389d6ab32529'\n",
    "with open('client.secret') as f:\n",
    "    SPOTIPY_CLIENT_SECRET = f.read()\n",
    "SPOTIPY_REDIRECT_URI = \"http://localhost:9090/\"\n",
    "\n",
    "\n",
    "def refresh_token(username):\n",
    "\n",
    "    scope = 'user-library-read user-top-read'\n",
    "\n",
    "    if(SPOTIPY_CLIENT_SECRET):\n",
    "        token = util.prompt_for_user_token( username, \n",
    "                                            scope, \n",
    "                                            client_id = SPOTIPY_CLIENT_ID, \n",
    "                                            client_secret = SPOTIPY_CLIENT_SECRET, \n",
    "                                            redirect_uri = SPOTIPY_REDIRECT_URI)\n",
    "    else:\n",
    "        print(\"ERROR CONNECTING TO SPOTIFY. Check client.secret file\")\n",
    "        quit()\n",
    "    \n",
    "    return token"
   ]
  },
  {
   "cell_type": "code",
   "execution_count": 3,
   "metadata": {},
   "outputs": [],
   "source": [
    "token = refresh_token(\"emccoskymusic\")"
   ]
  },
  {
   "cell_type": "code",
   "execution_count": 4,
   "metadata": {},
   "outputs": [],
   "source": [
    "def hydrate_user(user: User):\n",
    "    token = refresh_token(user.spotify_username)\n",
    "    tracks = []\n",
    "    track_ids = []\n",
    "    artists = []\n",
    "    artist_ids = []\n",
    "    if token:\n",
    "        sp = spotipy.Spotify(auth=token)\n",
    "        \n",
    "        results = sp.current_user_top_tracks()\n",
    "        for item in results['items']:\n",
    "            tracks.append(\"Title: {name} Artist: {artist}\".format(name = item['name'], artist = item['artists'][0]['name']))\n",
    "            track_ids.append(item['id'])\n",
    "        \n",
    "        results = sp.current_user_top_artists(time_range='long_term')\n",
    "        for item in results['items']:\n",
    "            artists.append(\"{artist}\".format(artist = item['name']))\n",
    "            artist_ids.append(item['id'])\n",
    "    else:\n",
    "        print(\"Can't get token for\", user.spotify_username)\n",
    "    user.song_likes = tracks\n",
    "    user.artist_likes = artists\n",
    "    user.song_ids = track_ids\n",
    "    user.artist_ids = artist_ids\n",
    "    return user"
   ]
  },
  {
   "cell_type": "code",
   "execution_count": 73,
   "metadata": {},
   "outputs": [
    {
     "output_type": "stream",
     "name": "stderr",
     "text": [
      "Couldn't read cache at: .cache-PranjalSatija\n"
     ]
    },
    {
     "output_type": "error",
     "ename": "OSError",
     "evalue": "[WinError 10013] An attempt was made to access a socket in a way forbidden by its access permissions",
     "traceback": [
      "\u001b[1;31m---------------------------------------------------------------------------\u001b[0m",
      "\u001b[1;31mOSError\u001b[0m                                   Traceback (most recent call last)",
      "\u001b[1;32m<ipython-input-73-a5f077c87217>\u001b[0m in \u001b[0;36m<module>\u001b[1;34m\u001b[0m\n\u001b[0;32m      1\u001b[0m \u001b[0mnew_user\u001b[0m \u001b[1;33m=\u001b[0m \u001b[0mUser\u001b[0m\u001b[1;33m(\u001b[0m\u001b[1;34m\"Ethan\"\u001b[0m\u001b[1;33m,\u001b[0m \u001b[1;34m\"PranjalSatija\"\u001b[0m\u001b[1;33m,\u001b[0m \u001b[1;33m[\u001b[0m\u001b[1;33m]\u001b[0m\u001b[1;33m,\u001b[0m \u001b[1;33m[\u001b[0m\u001b[1;33m]\u001b[0m\u001b[1;33m,\u001b[0m \u001b[1;33m[\u001b[0m\u001b[1;33m]\u001b[0m\u001b[1;33m,\u001b[0m \u001b[1;33m[\u001b[0m\u001b[1;33m]\u001b[0m\u001b[1;33m,\u001b[0m \u001b[1;33m[\u001b[0m\u001b[1;33m]\u001b[0m\u001b[1;33m)\u001b[0m\u001b[1;33m\u001b[0m\u001b[1;33m\u001b[0m\u001b[0m\n\u001b[1;32m----> 2\u001b[1;33m \u001b[0muser\u001b[0m \u001b[1;33m=\u001b[0m \u001b[0mhydrate_user\u001b[0m\u001b[1;33m(\u001b[0m\u001b[0mnew_user\u001b[0m\u001b[1;33m)\u001b[0m\u001b[1;33m\u001b[0m\u001b[1;33m\u001b[0m\u001b[0m\n\u001b[0m\u001b[0;32m      3\u001b[0m \u001b[0mprint\u001b[0m\u001b[1;33m(\u001b[0m\u001b[0muser\u001b[0m\u001b[1;33m.\u001b[0m\u001b[0msong_likes\u001b[0m\u001b[1;33m)\u001b[0m\u001b[1;33m\u001b[0m\u001b[1;33m\u001b[0m\u001b[0m\n\u001b[0;32m      4\u001b[0m \u001b[0mprint\u001b[0m\u001b[1;33m(\u001b[0m\u001b[0muser\u001b[0m\u001b[1;33m.\u001b[0m\u001b[0martist_likes\u001b[0m\u001b[1;33m)\u001b[0m\u001b[1;33m\u001b[0m\u001b[1;33m\u001b[0m\u001b[0m\n",
      "\u001b[1;32m<ipython-input-72-807a0dfb4302>\u001b[0m in \u001b[0;36mhydrate_user\u001b[1;34m(user)\u001b[0m\n\u001b[0;32m      1\u001b[0m \u001b[1;32mdef\u001b[0m \u001b[0mhydrate_user\u001b[0m\u001b[1;33m(\u001b[0m\u001b[0muser\u001b[0m\u001b[1;33m:\u001b[0m \u001b[0mUser\u001b[0m\u001b[1;33m)\u001b[0m\u001b[1;33m:\u001b[0m\u001b[1;33m\u001b[0m\u001b[1;33m\u001b[0m\u001b[0m\n\u001b[1;32m----> 2\u001b[1;33m     \u001b[0mtoken\u001b[0m \u001b[1;33m=\u001b[0m \u001b[0mrefresh_token\u001b[0m\u001b[1;33m(\u001b[0m\u001b[0muser\u001b[0m\u001b[1;33m.\u001b[0m\u001b[0mspotify_username\u001b[0m\u001b[1;33m)\u001b[0m\u001b[1;33m\u001b[0m\u001b[1;33m\u001b[0m\u001b[0m\n\u001b[0m\u001b[0;32m      3\u001b[0m     \u001b[0mtracks\u001b[0m \u001b[1;33m=\u001b[0m \u001b[1;33m[\u001b[0m\u001b[1;33m]\u001b[0m\u001b[1;33m\u001b[0m\u001b[1;33m\u001b[0m\u001b[0m\n\u001b[0;32m      4\u001b[0m     \u001b[0mtrack_ids\u001b[0m \u001b[1;33m=\u001b[0m \u001b[1;33m[\u001b[0m\u001b[1;33m]\u001b[0m\u001b[1;33m\u001b[0m\u001b[1;33m\u001b[0m\u001b[0m\n\u001b[0;32m      5\u001b[0m     \u001b[0martists\u001b[0m \u001b[1;33m=\u001b[0m \u001b[1;33m[\u001b[0m\u001b[1;33m]\u001b[0m\u001b[1;33m\u001b[0m\u001b[1;33m\u001b[0m\u001b[0m\n",
      "\u001b[1;32m<ipython-input-71-c6756c2a8a9e>\u001b[0m in \u001b[0;36mrefresh_token\u001b[1;34m(username)\u001b[0m\n\u001b[0;32m     22\u001b[0m                                             \u001b[0mclient_id\u001b[0m \u001b[1;33m=\u001b[0m \u001b[0mSPOTIPY_CLIENT_ID\u001b[0m\u001b[1;33m,\u001b[0m\u001b[1;33m\u001b[0m\u001b[1;33m\u001b[0m\u001b[0m\n\u001b[0;32m     23\u001b[0m                                             \u001b[0mclient_secret\u001b[0m \u001b[1;33m=\u001b[0m \u001b[0mSPOTIPY_CLIENT_SECRET\u001b[0m\u001b[1;33m,\u001b[0m\u001b[1;33m\u001b[0m\u001b[1;33m\u001b[0m\u001b[0m\n\u001b[1;32m---> 24\u001b[1;33m                                             redirect_uri = SPOTIPY_REDIRECT_URI)\n\u001b[0m\u001b[0;32m     25\u001b[0m     \u001b[1;32melse\u001b[0m\u001b[1;33m:\u001b[0m\u001b[1;33m\u001b[0m\u001b[1;33m\u001b[0m\u001b[0m\n\u001b[0;32m     26\u001b[0m         \u001b[0mprint\u001b[0m\u001b[1;33m(\u001b[0m\u001b[1;34m\"ERROR CONNECTING TO SPOTIFY. Check client.secret file\"\u001b[0m\u001b[1;33m)\u001b[0m\u001b[1;33m\u001b[0m\u001b[1;33m\u001b[0m\u001b[0m\n",
      "\u001b[1;32md:\\DEV\\Class\\CS4395 NLP\\chatbot\\venv37\\lib\\site-packages\\spotipy\\util.py\u001b[0m in \u001b[0;36mprompt_for_user_token\u001b[1;34m(username, scope, client_id, client_secret, redirect_uri, cache_path, oauth_manager, show_dialog)\u001b[0m\n\u001b[0;32m     97\u001b[0m \u001b[1;33m\u001b[0m\u001b[0m\n\u001b[0;32m     98\u001b[0m     \u001b[1;32mif\u001b[0m \u001b[1;32mnot\u001b[0m \u001b[0mtoken_info\u001b[0m\u001b[1;33m:\u001b[0m\u001b[1;33m\u001b[0m\u001b[1;33m\u001b[0m\u001b[0m\n\u001b[1;32m---> 99\u001b[1;33m         \u001b[0mcode\u001b[0m \u001b[1;33m=\u001b[0m \u001b[0msp_oauth\u001b[0m\u001b[1;33m.\u001b[0m\u001b[0mget_auth_response\u001b[0m\u001b[1;33m(\u001b[0m\u001b[1;33m)\u001b[0m\u001b[1;33m\u001b[0m\u001b[1;33m\u001b[0m\u001b[0m\n\u001b[0m\u001b[0;32m    100\u001b[0m         \u001b[0mtoken\u001b[0m \u001b[1;33m=\u001b[0m \u001b[0msp_oauth\u001b[0m\u001b[1;33m.\u001b[0m\u001b[0mget_access_token\u001b[0m\u001b[1;33m(\u001b[0m\u001b[0mcode\u001b[0m\u001b[1;33m,\u001b[0m \u001b[0mas_dict\u001b[0m\u001b[1;33m=\u001b[0m\u001b[1;32mFalse\u001b[0m\u001b[1;33m)\u001b[0m\u001b[1;33m\u001b[0m\u001b[1;33m\u001b[0m\u001b[0m\n\u001b[0;32m    101\u001b[0m     \u001b[1;32melse\u001b[0m\u001b[1;33m:\u001b[0m\u001b[1;33m\u001b[0m\u001b[1;33m\u001b[0m\u001b[0m\n",
      "\u001b[1;32md:\\DEV\\Class\\CS4395 NLP\\chatbot\\venv37\\lib\\site-packages\\spotipy\\oauth2.py\u001b[0m in \u001b[0;36mget_auth_response\u001b[1;34m(self, open_browser)\u001b[0m\n\u001b[0;32m    437\u001b[0m             \u001b[1;31m# Only start a local http server if a port is specified\u001b[0m\u001b[1;33m\u001b[0m\u001b[1;33m\u001b[0m\u001b[1;33m\u001b[0m\u001b[0m\n\u001b[0;32m    438\u001b[0m             \u001b[1;32mif\u001b[0m \u001b[0mredirect_port\u001b[0m\u001b[1;33m:\u001b[0m\u001b[1;33m\u001b[0m\u001b[1;33m\u001b[0m\u001b[0m\n\u001b[1;32m--> 439\u001b[1;33m                 \u001b[1;32mreturn\u001b[0m \u001b[0mself\u001b[0m\u001b[1;33m.\u001b[0m\u001b[0m_get_auth_response_local_server\u001b[0m\u001b[1;33m(\u001b[0m\u001b[0mredirect_port\u001b[0m\u001b[1;33m)\u001b[0m\u001b[1;33m\u001b[0m\u001b[1;33m\u001b[0m\u001b[0m\n\u001b[0m\u001b[0;32m    440\u001b[0m             \u001b[1;32melse\u001b[0m\u001b[1;33m:\u001b[0m\u001b[1;33m\u001b[0m\u001b[1;33m\u001b[0m\u001b[0m\n\u001b[0;32m    441\u001b[0m                 logger.warning('Using `%s` as redirect URI without a port. '\n",
      "\u001b[1;32md:\\DEV\\Class\\CS4395 NLP\\chatbot\\venv37\\lib\\site-packages\\spotipy\\oauth2.py\u001b[0m in \u001b[0;36m_get_auth_response_local_server\u001b[1;34m(self, redirect_port)\u001b[0m\n\u001b[0;32m    403\u001b[0m \u001b[1;33m\u001b[0m\u001b[0m\n\u001b[0;32m    404\u001b[0m     \u001b[1;32mdef\u001b[0m \u001b[0m_get_auth_response_local_server\u001b[0m\u001b[1;33m(\u001b[0m\u001b[0mself\u001b[0m\u001b[1;33m,\u001b[0m \u001b[0mredirect_port\u001b[0m\u001b[1;33m)\u001b[0m\u001b[1;33m:\u001b[0m\u001b[1;33m\u001b[0m\u001b[1;33m\u001b[0m\u001b[0m\n\u001b[1;32m--> 405\u001b[1;33m         \u001b[0mserver\u001b[0m \u001b[1;33m=\u001b[0m \u001b[0mstart_local_http_server\u001b[0m\u001b[1;33m(\u001b[0m\u001b[0mredirect_port\u001b[0m\u001b[1;33m)\u001b[0m\u001b[1;33m\u001b[0m\u001b[1;33m\u001b[0m\u001b[0m\n\u001b[0m\u001b[0;32m    406\u001b[0m         \u001b[0mself\u001b[0m\u001b[1;33m.\u001b[0m\u001b[0m_open_auth_url\u001b[0m\u001b[1;33m(\u001b[0m\u001b[1;33m)\u001b[0m\u001b[1;33m\u001b[0m\u001b[1;33m\u001b[0m\u001b[0m\n\u001b[0;32m    407\u001b[0m         \u001b[0mserver\u001b[0m\u001b[1;33m.\u001b[0m\u001b[0mhandle_request\u001b[0m\u001b[1;33m(\u001b[0m\u001b[1;33m)\u001b[0m\u001b[1;33m\u001b[0m\u001b[1;33m\u001b[0m\u001b[0m\n",
      "\u001b[1;32md:\\DEV\\Class\\CS4395 NLP\\chatbot\\venv37\\lib\\site-packages\\spotipy\\oauth2.py\u001b[0m in \u001b[0;36mstart_local_http_server\u001b[1;34m(port, handler)\u001b[0m\n\u001b[0;32m   1225\u001b[0m \u001b[1;33m\u001b[0m\u001b[0m\n\u001b[0;32m   1226\u001b[0m \u001b[1;32mdef\u001b[0m \u001b[0mstart_local_http_server\u001b[0m\u001b[1;33m(\u001b[0m\u001b[0mport\u001b[0m\u001b[1;33m,\u001b[0m \u001b[0mhandler\u001b[0m\u001b[1;33m=\u001b[0m\u001b[0mRequestHandler\u001b[0m\u001b[1;33m)\u001b[0m\u001b[1;33m:\u001b[0m\u001b[1;33m\u001b[0m\u001b[1;33m\u001b[0m\u001b[0m\n\u001b[1;32m-> 1227\u001b[1;33m     \u001b[0mserver\u001b[0m \u001b[1;33m=\u001b[0m \u001b[0mHTTPServer\u001b[0m\u001b[1;33m(\u001b[0m\u001b[1;33m(\u001b[0m\u001b[1;34m\"127.0.0.1\"\u001b[0m\u001b[1;33m,\u001b[0m \u001b[0mport\u001b[0m\u001b[1;33m)\u001b[0m\u001b[1;33m,\u001b[0m \u001b[0mhandler\u001b[0m\u001b[1;33m)\u001b[0m\u001b[1;33m\u001b[0m\u001b[1;33m\u001b[0m\u001b[0m\n\u001b[0m\u001b[0;32m   1228\u001b[0m     \u001b[0mserver\u001b[0m\u001b[1;33m.\u001b[0m\u001b[0mallow_reuse_address\u001b[0m \u001b[1;33m=\u001b[0m \u001b[1;32mTrue\u001b[0m\u001b[1;33m\u001b[0m\u001b[1;33m\u001b[0m\u001b[0m\n\u001b[0;32m   1229\u001b[0m     \u001b[0mserver\u001b[0m\u001b[1;33m.\u001b[0m\u001b[0mauth_code\u001b[0m \u001b[1;33m=\u001b[0m \u001b[1;32mNone\u001b[0m\u001b[1;33m\u001b[0m\u001b[1;33m\u001b[0m\u001b[0m\n",
      "\u001b[1;32mE:\\Python37\\lib\\socketserver.py\u001b[0m in \u001b[0;36m__init__\u001b[1;34m(self, server_address, RequestHandlerClass, bind_and_activate)\u001b[0m\n\u001b[0;32m    450\u001b[0m         \u001b[1;32mif\u001b[0m \u001b[0mbind_and_activate\u001b[0m\u001b[1;33m:\u001b[0m\u001b[1;33m\u001b[0m\u001b[1;33m\u001b[0m\u001b[0m\n\u001b[0;32m    451\u001b[0m             \u001b[1;32mtry\u001b[0m\u001b[1;33m:\u001b[0m\u001b[1;33m\u001b[0m\u001b[1;33m\u001b[0m\u001b[0m\n\u001b[1;32m--> 452\u001b[1;33m                 \u001b[0mself\u001b[0m\u001b[1;33m.\u001b[0m\u001b[0mserver_bind\u001b[0m\u001b[1;33m(\u001b[0m\u001b[1;33m)\u001b[0m\u001b[1;33m\u001b[0m\u001b[1;33m\u001b[0m\u001b[0m\n\u001b[0m\u001b[0;32m    453\u001b[0m                 \u001b[0mself\u001b[0m\u001b[1;33m.\u001b[0m\u001b[0mserver_activate\u001b[0m\u001b[1;33m(\u001b[0m\u001b[1;33m)\u001b[0m\u001b[1;33m\u001b[0m\u001b[1;33m\u001b[0m\u001b[0m\n\u001b[0;32m    454\u001b[0m             \u001b[1;32mexcept\u001b[0m\u001b[1;33m:\u001b[0m\u001b[1;33m\u001b[0m\u001b[1;33m\u001b[0m\u001b[0m\n",
      "\u001b[1;32mE:\\Python37\\lib\\http\\server.py\u001b[0m in \u001b[0;36mserver_bind\u001b[1;34m(self)\u001b[0m\n\u001b[0;32m    135\u001b[0m     \u001b[1;32mdef\u001b[0m \u001b[0mserver_bind\u001b[0m\u001b[1;33m(\u001b[0m\u001b[0mself\u001b[0m\u001b[1;33m)\u001b[0m\u001b[1;33m:\u001b[0m\u001b[1;33m\u001b[0m\u001b[1;33m\u001b[0m\u001b[0m\n\u001b[0;32m    136\u001b[0m         \u001b[1;34m\"\"\"Override server_bind to store the server name.\"\"\"\u001b[0m\u001b[1;33m\u001b[0m\u001b[1;33m\u001b[0m\u001b[0m\n\u001b[1;32m--> 137\u001b[1;33m         \u001b[0msocketserver\u001b[0m\u001b[1;33m.\u001b[0m\u001b[0mTCPServer\u001b[0m\u001b[1;33m.\u001b[0m\u001b[0mserver_bind\u001b[0m\u001b[1;33m(\u001b[0m\u001b[0mself\u001b[0m\u001b[1;33m)\u001b[0m\u001b[1;33m\u001b[0m\u001b[1;33m\u001b[0m\u001b[0m\n\u001b[0m\u001b[0;32m    138\u001b[0m         \u001b[0mhost\u001b[0m\u001b[1;33m,\u001b[0m \u001b[0mport\u001b[0m \u001b[1;33m=\u001b[0m \u001b[0mself\u001b[0m\u001b[1;33m.\u001b[0m\u001b[0mserver_address\u001b[0m\u001b[1;33m[\u001b[0m\u001b[1;33m:\u001b[0m\u001b[1;36m2\u001b[0m\u001b[1;33m]\u001b[0m\u001b[1;33m\u001b[0m\u001b[1;33m\u001b[0m\u001b[0m\n\u001b[0;32m    139\u001b[0m         \u001b[0mself\u001b[0m\u001b[1;33m.\u001b[0m\u001b[0mserver_name\u001b[0m \u001b[1;33m=\u001b[0m \u001b[0msocket\u001b[0m\u001b[1;33m.\u001b[0m\u001b[0mgetfqdn\u001b[0m\u001b[1;33m(\u001b[0m\u001b[0mhost\u001b[0m\u001b[1;33m)\u001b[0m\u001b[1;33m\u001b[0m\u001b[1;33m\u001b[0m\u001b[0m\n",
      "\u001b[1;32mE:\\Python37\\lib\\socketserver.py\u001b[0m in \u001b[0;36mserver_bind\u001b[1;34m(self)\u001b[0m\n\u001b[0;32m    464\u001b[0m         \u001b[1;32mif\u001b[0m \u001b[0mself\u001b[0m\u001b[1;33m.\u001b[0m\u001b[0mallow_reuse_address\u001b[0m\u001b[1;33m:\u001b[0m\u001b[1;33m\u001b[0m\u001b[1;33m\u001b[0m\u001b[0m\n\u001b[0;32m    465\u001b[0m             \u001b[0mself\u001b[0m\u001b[1;33m.\u001b[0m\u001b[0msocket\u001b[0m\u001b[1;33m.\u001b[0m\u001b[0msetsockopt\u001b[0m\u001b[1;33m(\u001b[0m\u001b[0msocket\u001b[0m\u001b[1;33m.\u001b[0m\u001b[0mSOL_SOCKET\u001b[0m\u001b[1;33m,\u001b[0m \u001b[0msocket\u001b[0m\u001b[1;33m.\u001b[0m\u001b[0mSO_REUSEADDR\u001b[0m\u001b[1;33m,\u001b[0m \u001b[1;36m1\u001b[0m\u001b[1;33m)\u001b[0m\u001b[1;33m\u001b[0m\u001b[1;33m\u001b[0m\u001b[0m\n\u001b[1;32m--> 466\u001b[1;33m         \u001b[0mself\u001b[0m\u001b[1;33m.\u001b[0m\u001b[0msocket\u001b[0m\u001b[1;33m.\u001b[0m\u001b[0mbind\u001b[0m\u001b[1;33m(\u001b[0m\u001b[0mself\u001b[0m\u001b[1;33m.\u001b[0m\u001b[0mserver_address\u001b[0m\u001b[1;33m)\u001b[0m\u001b[1;33m\u001b[0m\u001b[1;33m\u001b[0m\u001b[0m\n\u001b[0m\u001b[0;32m    467\u001b[0m         \u001b[0mself\u001b[0m\u001b[1;33m.\u001b[0m\u001b[0mserver_address\u001b[0m \u001b[1;33m=\u001b[0m \u001b[0mself\u001b[0m\u001b[1;33m.\u001b[0m\u001b[0msocket\u001b[0m\u001b[1;33m.\u001b[0m\u001b[0mgetsockname\u001b[0m\u001b[1;33m(\u001b[0m\u001b[1;33m)\u001b[0m\u001b[1;33m\u001b[0m\u001b[1;33m\u001b[0m\u001b[0m\n\u001b[0;32m    468\u001b[0m \u001b[1;33m\u001b[0m\u001b[0m\n",
      "\u001b[1;31mOSError\u001b[0m: [WinError 10013] An attempt was made to access a socket in a way forbidden by its access permissions"
     ]
    }
   ],
   "source": [
    "new_user = User(\"Ethan\", \"PranjalSatija\", [], [], [], [], [])\n",
    "user = hydrate_user(new_user)\n",
    "print(user.song_likes)\n",
    "print(user.artist_likes)"
   ]
  },
  {
   "cell_type": "code",
   "execution_count": 5,
   "metadata": {},
   "outputs": [
    {
     "output_type": "stream",
     "name": "stdout",
     "text": [
      "Title: Forests Artist: Tom Rosenthal\nTitle: Melody Noir Artist: Patrick Watson\nTitle: My Boy (feat. J. Cole) - Freestyle Artist: Wale\nTitle: My Nigga Just Made Bail Artist: Bas\nTitle: Fuji Films Artist: IshDARR\nTitle: Carry You Artist: Novo Amor\nTitle: About The Weather Artist: Tom Rosenthal\nTitle: Meditate (feat. J.I.D.) Artist: EARTHGANG\nTitle: Z4L (with Bari & Jay2) Artist: Smino\nTitle: Paint Artist: The Paper Kites\nTitle: Malibu Sleep Artist: Col3trane\nTitle: Tribe (with J. Cole) Artist: Bas\nTitle: Keep Me Warm Artist: Tom Rosenthal\nTitle: Proud Of U (feat. Young Thug) Artist: EARTHGANG\nTitle: FALL BACK Artist: Duckwrth\nTitle: LIFE Artist: Saba\nTitle: Swarm Swamp Swim Artist: Tom Rosenthal\nTitle: Amphetamine Artist: Smino\nTitle: OooWee Artist: Rapsody\nTitle: Lighthouse Artist: Patrick Watson\n"
     ]
    }
   ],
   "source": [
    "new_user = User(\"Ethan\", \"emccoskymusic\", [], [], [], [], [])\n",
    "user = hydrate_user(new_user)\n",
    "token = refresh_token(user.spotify_username)\n",
    "if token:\n",
    "        sp = spotipy.Spotify(auth=token)\n",
    "        artist_seed_str = ','.join([str(x) for x in user.artist_ids])\n",
    "        track_seed_str = ','.join([str(x) for x in user.song_ids])\n",
    "    \n",
    "        #print(artist_seed_str)\n",
    "        #print(track_seed_str)\n",
    "\n",
    "        results = sp.recommendations(seed_artists = [user.artist_ids[0]], seed_tracks = [user.song_ids[0]])\n",
    "        #print(results)\n",
    "        for track in results['tracks']:\n",
    "            print(\"Title: {name} Artist: {artist}\".format(name = track['name'], artist = track['artists'][0]['name']))"
   ]
  },
  {
   "cell_type": "code",
   "execution_count": 67,
   "metadata": {},
   "outputs": [],
   "source": [
    "def get_recommendations(user: User):\n",
    "    token = refresh_token(user.spotify_username)\n",
    "    recs = []\n",
    "    if token:\n",
    "            sp = spotipy.Spotify(auth=token)\n",
    "            results = sp.recommendations(seed_artists = [user.artist_ids[0]], seed_tracks = [user.song_ids[0]])\n",
    "            #print(results)\n",
    "            for track in results['tracks']:\n",
    "                recs.append(\"Title: {name} Artist: {artist}\".format(name = track['name'], artist = track['artists'][0]['name']))\n",
    "    else:\n",
    "        print(\"Can't get token for\", user.spotify_username)\n",
    "    return recs"
   ]
  },
  {
   "cell_type": "code",
   "execution_count": 70,
   "metadata": {},
   "outputs": [
    {
     "output_type": "stream",
     "name": "stdout",
     "text": [
      "['Title: P.A.S.T.A Artist: Tom Rosenthal', 'Title: Off Deez (with J. Cole) Artist: JID', 'Title: Rotation 112th (feat. Rich The Kid) - Remix Artist: Jay Rock', 'Title: Je te laisserai des mots Artist: Patrick Watson', 'Title: Days Like This (feat. Khalid) Artist: GoldLink', 'Title: Front Desk Artist: Bas', 'Title: Jim and Dwight Artist: Tom Rosenthal', 'Title: Forget Tomorrow Artist: Mighty Oaks', 'Title: I Might Need Security Artist: Chance the Rapper', 'Title: Places + Faces Artist: Aminé', 'Title: Prove It (feat. J. Cole) Artist: Big K.R.I.T.', 'Title: Zendaya (feat. J. Cole) Artist: Cozz', 'Title: My Life Is A Song For You Artist: Tom Rosenthal', 'Title: Workin Out Artist: JID', 'Title: Breathe Again Artist: Harrison Storm', 'Title: Reicht dir das Artist: Provinz', 'Title: If We All Die Tomorrow Artist: Tom Rosenthal', 'Title: Cold Artist: Novo Amor', 'Title: Arms Artist: The Paper Kites', 'Title: Come To Me Artist: ÄTNA']\n['Title: My Life Is A Song For You Artist: Tom Rosenthal', 'Title: Cold Artist: Novo Amor', 'Title: Places + Faces Artist: Aminé', 'Title: Days Like This (feat. Khalid) Artist: GoldLink', 'Title: Zendaya (feat. J. Cole) Artist: Cozz', 'Title: I Might Need Security Artist: Chance the Rapper', 'Title: Front Desk Artist: Bas', 'Title: P.A.S.T.A Artist: Tom Rosenthal', 'Title: Jim and Dwight Artist: Tom Rosenthal', 'Title: Prove It (feat. J. Cole) Artist: Big K.R.I.T.', 'Title: If We All Die Tomorrow Artist: Tom Rosenthal', 'Title: Je te laisserai des mots Artist: Patrick Watson', 'Title: Forget Tomorrow Artist: Mighty Oaks', 'Title: Arms Artist: The Paper Kites', 'Title: Breathe Again Artist: Harrison Storm', 'Title: Off Deez (with J. Cole) Artist: JID', 'Title: Workin Out Artist: JID', 'Title: Rotation 112th (feat. Rich The Kid) - Remix Artist: Jay Rock', 'Title: Come To Me Artist: ÄTNA', 'Title: Reicht dir das Artist: Provinz']\n"
     ]
    }
   ],
   "source": [
    "import random\n",
    "new_user = User(\"Ethan\", \"emccoskymusic\", [], [], [], [], [])\n",
    "user = hydrate_user(new_user)\n",
    "recs = get_recommendations(user)\n",
    "random.shuffle(recs)\n",
    "print(recs)"
   ]
  },
  {
   "cell_type": "code",
   "execution_count": null,
   "metadata": {},
   "outputs": [],
   "source": []
  }
 ]
}